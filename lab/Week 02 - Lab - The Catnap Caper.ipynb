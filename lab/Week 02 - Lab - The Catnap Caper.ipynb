{
 "cells": [
  {
   "cell_type": "markdown",
   "metadata": {},
   "source": [
    "### CMPSC 100: G. Wiz and the Catnap Caper\n",
    "\n",
    "![Ulysses 4 t3h fanz](https://cs.allegheny.edu/sites/dluman/cmpsc100/img/ulysses-4-teh-fanz.jpg)\n",
    "\n",
    "<div class=\"alert alert-block alert-warning\" id = \"warning\">\n",
    "The work this week also offers the opportunity to tie up the server in loopish operations. Should you be unable to run cells, simply locate the <b>Kernel</b> menu at the top of the screen and click <b>Interrupt Kernel</b>. This should jumpstart the kernel again and clear out the infinite loop behavior.</div>\n",
    "\n",
    "## Overview\n",
    "\n",
    "---\n",
    "\n",
    "Someone(s) tried to catnap my cat, Ulysses!\n",
    "\n",
    "Hearing about G. Wiz's crystal ball (somebody in class must've let their secret slip!), authorities of the global Animal Kingdom have called in our magical reptile friend to help predict all of the various scenarios that could occur once they begin interrogation of the two Human catnappers, Bob and Alice. \n",
    "\n",
    "Of course, there's some nice money in it for G. Wiz's hat collection.\n",
    "\n",
    "After consulting with G. Wiz to work out the possibilities, the detectives have narrowed down the following possibilities:\n",
    "\n",
    "| Alice's choice | Bob's choice | Alice's sentence | Bob's sentence |\n",
    "|----------------|--------------|------------------|----------------|\n",
    "| Spill it       | Clam up      | 0 years          | 3 years        |\n",
    "| Stand tall     | Fink         | 3 years          | 0 years        |\n",
    "| Tattle         | Finger-point | 2 years          | 2 years        |\n",
    "| Cool as a cucumber | Shuts it | 1 year           | 1 year         |\n",
    "\n",
    "It is up to you to write a program to simulate all the various ways that their interrogation could go, and the corresponding outcomes.\n",
    "\n",
    "<div class=\"alert alert-block alert-info\">\n",
    "<b>Tips:</b>\n",
    "    <ul>\n",
    "        <li>You will use all of the skills we've gained over the last week to accomplish this goal</li>\n",
    "        <li>You will \"nest\" if statements inside your loop</li>\n",
    "        <li>The program will be more efficient if you use numeric variables to keep track of the various sentences that each catnapper recieves.</li>\n",
    "    </ul>\n",
    "</div>"
   ]
  },
  {
   "cell_type": "markdown",
   "metadata": {},
   "source": [
    "### Sample output\n",
    "\n",
    "```\n",
    "Does Alice defect? [Y]es/[N]o: N\n",
    "Alice stays quiet.\n",
    "Does Bob defect? [Y]es/[N]o: Y\n",
    "Bob defects!\n",
    "\n",
    "Alice recieves 3 year(s).\n",
    "Bob recieves 0 year(s).\n",
    "\n",
    "Try another scenario? [Y]es/[N]o:\n",
    "```"
   ]
  },
  {
   "cell_type": "markdown",
   "metadata": {},
   "source": [
    "## General guidelines for laboratory sessions\n",
    "\n",
    "---\n",
    "\n",
    "* Follow steps carefully. Laboratory sessions often get a bit more complicated than their preceeding Practical sessions. Especially for early sessions which expose you to platforms with which you may not be familiar, take notes on commands you run and their corresponding effects/outputs. If you find yourself stuck on a step, let a TL or the professor know! Laboratory sessions do not mean that we won't help you in the same way we do during Practicals.\n",
    "* Regularly ask and answer questions. Some of you may have more experience with the topics we're discussing than others. We can use this knowledge to our advantage. But, like in Practicals, let students try things for a while before offering help (always offer first). To ask questions, use our Slack's #labs channel.\n",
    "* Store and transfer files using GitHub. Various forms of file storage are more or less volatile. You are responsible for backing up and storing files. If you're unsure of files which have been changed, you can always type git status in the terminal for your working folder to determine what you need to back up.\n",
    "* Keep all of your files. See above, but also remember that you're responsible for the files you create.\n",
    "* Back up your files regularly. See above (and above-above).\n",
    "* Review the Honor Code regularly when working. If you're taking a solution from another student or the Internet at-large (especially Stack Overflow), bear in mind that using these solutions can constitute a form of plagiarism that violates the Allegheny Honor Code. While it may seem easy and convenient to use these sources, it is equally easy and convenient to rely on them and create bad habits which include not attributing credit or relying exclusively on others to solve issues. Neither are productive uses of your intellect. Really."
   ]
  },
  {
   "cell_type": "markdown",
   "metadata": {},
   "source": [
    "## Requirements\n",
    "\n",
    "---\n",
    "\n",
    "### This notebook\n",
    "\n",
    "Your program should:\n",
    "\n",
    "* use a single `while` loop to test if the user wants to run another scenario \n",
    "  * This should use the prompt question `Try another scenario? [Y]es/[N]o:`\n",
    "* take input for Alice's choice with a well-labeled prompt for the user\n",
    "  * Store this as `alice_choice`\n",
    "* take input for Bob's choice with a well-labeled prompt for the user\n",
    "  * Store this as `bob_choice`\n",
    "* use an `if` statement to display the result of the user's choice (e.g. `Alice stays quiet.` or `Alice defects!`)\n",
    "* use a separate `if` statement to control for all four (4) possible outcomes\n",
    "* use `print()` statements to display the sentences reserved for either of the crooks\n",
    "* store the number of years each catnapper is sentenced to using the following variables:\n",
    "  * `alice_years` for Alice's sentence\n",
    "  * `bob_years` for Bob's sentence\n",
    "* Creates the correct output for all scenarios' inputs (see the \"truth table\" up above)\n",
    "\n",
    "### `reflection.md`\n",
    "\n",
    "* At least 300 words\n",
    "* Responds to all questions\n",
    "* Contains `0` `TODO` markers"
   ]
  },
  {
   "cell_type": "markdown",
   "metadata": {},
   "source": [
    "## Code space"
   ]
  },
  {
   "cell_type": "code",
   "execution_count": 2,
   "metadata": {},
   "outputs": [
    {
     "name": "stdin",
     "output_type": "stream",
     "text": [
      "Does Alice defect? [Y]es/[N]o: N\n",
      "Does Bob defect? [Y]es/[N]o: N\n"
     ]
    },
    {
     "name": "stdout",
     "output_type": "stream",
     "text": [
      "Alice receives 0 year(s).\n",
      "Bob recieves 0 years(s).\n"
     ]
    },
    {
     "name": "stdin",
     "output_type": "stream",
     "text": [
      "Try another scenario? [Y]es/[N]o: N\n"
     ]
    }
   ],
   "source": [
    "alice_years = 0\n",
    "bob_years = 0\n",
    "\n",
    "another = None\n",
    "alice_choice = None\n",
    "bob_choice = None\n",
    "\n",
    "while another != \"N\":\n",
    "    \n",
    "    # Reset variables\n",
    "    alice_years = 0\n",
    "    bob_years = 0\n",
    "    \n",
    "    # Catnappers' choices\n",
    "    alice_choice = input(\"Does Alice defect? [Y]es/[N]o:\")\n",
    "    bob_choice = input(\"Does Bob defect? [Y]es/[N]o:\")\n",
    "    \n",
    "    # Handling catnappers' choices\n",
    "    if alice_choice == \"Y\" and bob_choice == \"N\":\n",
    "        bob_years += 3\n",
    "    elif alice_choice ==\"N\" and bob_choice == \"Y\":\n",
    "        alice_years += 3\n",
    "    elif alice_choice == \"Y\" and bob_choice == \"Y\":\n",
    "        bob_years += 2\n",
    "        alice_years += 2\n",
    "    else:\n",
    "        alice_years += 1\n",
    "        bob_years += 1\n",
    "\n",
    "    print(\"Alice receives \" + str(alice_years) + \" year(s).\")\n",
    "    print(\"Bob receives \" + str(bob_years) + \" year(s).\")\n",
    "    \n",
    "    another = input(\"Try another scenario? [Y]es/[N]o:\")"
   ]
  }
 ],
 "metadata": {
  "kernelspec": {
   "display_name": "Python 3",
   "language": "python",
   "name": "python3"
  },
  "language_info": {
   "codemirror_mode": {
    "name": "ipython",
    "version": 3
   },
   "file_extension": ".py",
   "mimetype": "text/x-python",
   "name": "python",
   "nbconvert_exporter": "python",
   "pygments_lexer": "ipython3",
   "version": "3.8.2"
  }
 },
 "nbformat": 4,
 "nbformat_minor": 4
}
